{
 "cells": [
  {
   "cell_type": "markdown",
   "metadata": {},
   "source": [
    "# <ins>Exploration Project - Dr. Semmelweis and the Discovery of Handwashing<ins>\n",
    "Analyzing the data that led to one of the most important discoveries of modern medicine: handwashing."
   ]
  },
  {
   "cell_type": "markdown",
   "metadata": {},
   "source": [
    "## Context\n",
    "- The data shows the number of women giving birth from the year 1841 to 1846 at the Vienna General Hospital.\n",
    "- Unfortunatly, giving birth at those times was very dangerous, and an alarming number of women died during childbirth due to what is known as __childbed fever__."
   ]
  },
  {
   "cell_type": "markdown",
   "metadata": {},
   "source": [
    "#### *From Wikipedia*\n",
    "\"Postpartum infections, also known as __childbed fever__ and puerperal fever, are any bacterial infections of the female reproductive tract following childbirth or miscarriage.\"\n",
    "\n",
    "\"puerperal fever, or childbed fever, was rampant, sometimes climbing to __40 percent of admitted patients__\""
   ]
  },
  {
   "cell_type": "markdown",
   "metadata": {},
   "source": [
    "#### *About Dr. Ignaz Semmelweis*\n",
    "- Dr. Ignaz Semmelweis is a Hungarian physician that worked in the Vienna General Hospital maternity clinic on a 3-year contract from 1846–1849.\n",
    "- He was distrubed by the huge numbers of mortality rates, and after analyzing the mortality rates within the hospital, he was quite sure about the cause of it.\n",
    "- He figured, that the __cause of the childbirth mortality was due to infections__.\n",
    "- Eventually, he developed a theory of infections, in which he theorized that __decaying matter on the hands of doctors__ who were involed in autopsies, __are infecting the women__ at contact with the doctors during childbirth. \n",
    "- At June 1847 __Dr. Ignaz Semmelweis has implemented a handwashing policy__ for doctors in the matrnity clinic.\n",
    "- In this project Ill try to explore the mortality rates __prior__ to Dr. Ignaz Semmelweis's handwash policy, and analyze the data that made Dr. Ignaz Semmelweis realize something is wrong with the procedures at Vienna General Hospital."
   ]
  },
  {
   "cell_type": "markdown",
   "metadata": {},
   "source": [
    "## Imports and Functions"
   ]
  },
  {
   "cell_type": "code",
   "execution_count": 1,
   "metadata": {},
   "outputs": [],
   "source": [
    "import pandas as pd\n",
    "import numpy as np\n",
    "import matplotlib.pyplot as plt\n",
    "import seaborn as sns\n",
    "import pandasql as ps\n",
    "sns.set_style('whitegrid')\n",
    "from scipy import stats\n",
    "from bs4 import BeautifulSoup\n",
    "import requests"
   ]
  },
  {
   "cell_type": "code",
   "execution_count": 2,
   "metadata": {},
   "outputs": [],
   "source": [
    "def sql(query):\n",
    "    '''\n",
    "    Generates a Pandas Dataframe using SQL syntax.\n",
    "    \n",
    "    Parameters\n",
    "    ----------\n",
    "        arg_1 : SQL query(String)\n",
    "    \n",
    "    Returns\n",
    "    -------\n",
    "        Pandas DataFrame\n",
    "    '''\n",
    "    \n",
    "    return ps.sqldf(query)\n",
    "\n",
    "\n",
    "def ecdf(data):\n",
    "    '''\n",
    "    Compute ECDF for a one-dimensional array of measurements.\n",
    "    \n",
    "    Parameters\n",
    "    ----------\n",
    "        args_1 : 1D NumyPy Array or 1D Pandas Series\n",
    "    \n",
    "    Returns\n",
    "    -------\n",
    "        x, y variables for plotting ECDF\n",
    "    \n",
    "    '''\n",
    "    # Number of data points: n\n",
    "    n = len(data)\n",
    "\n",
    "    # x-data for the ECDF: x\n",
    "    x = np.sort(data)\n",
    "\n",
    "    # y-data for the ECDF: y\n",
    "    y = np.arange(1, n+1) / n\n",
    "\n",
    "    return x, y\n",
    "\n",
    "def t_test(df1, df2, confidence_level = 0.05):\n",
    "    '''\n",
    "    Performing a Student's T-test.\n",
    "    \n",
    "    Parameters\n",
    "    ----------\n",
    "        args_1 : df1(Type: Pandas DataFrame)\n",
    "        args_2 : df2(Type: Pandas DataFrame)\n",
    "        args_3 : confidence_level(Type: Float, Default: 0.05)\n",
    "    '''\n",
    "    \n",
    "    print(\"***Performing a Student's T-test***\")\n",
    "    \n",
    "    statistic , p_value = stats.ttest_ind(df1, df2)\n",
    "    print('\\nThe P-Value for the T-test is: {:.5f}'.format(p_value[1]))\n",
    "    if p_value[1] < confidence_level:\n",
    "        print('Rejecting the Null Hypothesis - The Difference in Mean is Statistically Siginificant')\n",
    "    else:\n",
    "        print('Unable to Reject the Null Hypothesis - The Difference in Mean is NOT Statistically Siginificant')"
   ]
  },
  {
   "cell_type": "markdown",
   "metadata": {},
   "source": [
    "## The Data"
   ]
  },
  {
   "cell_type": "code",
   "execution_count": 3,
   "metadata": {},
   "outputs": [
    {
     "data": {
      "text/html": [
       "<div>\n",
       "<style scoped>\n",
       "    .dataframe tbody tr th:only-of-type {\n",
       "        vertical-align: middle;\n",
       "    }\n",
       "\n",
       "    .dataframe tbody tr th {\n",
       "        vertical-align: top;\n",
       "    }\n",
       "\n",
       "    .dataframe thead th {\n",
       "        text-align: right;\n",
       "    }\n",
       "</style>\n",
       "<table border=\"1\" class=\"dataframe\">\n",
       "  <thead>\n",
       "    <tr style=\"text-align: right;\">\n",
       "      <th></th>\n",
       "      <th>year</th>\n",
       "      <th>births</th>\n",
       "      <th>deaths</th>\n",
       "      <th>clinic</th>\n",
       "    </tr>\n",
       "  </thead>\n",
       "  <tbody>\n",
       "    <tr>\n",
       "      <th>0</th>\n",
       "      <td>1841</td>\n",
       "      <td>3036</td>\n",
       "      <td>237</td>\n",
       "      <td>clinic 1</td>\n",
       "    </tr>\n",
       "    <tr>\n",
       "      <th>1</th>\n",
       "      <td>1842</td>\n",
       "      <td>3287</td>\n",
       "      <td>518</td>\n",
       "      <td>clinic 1</td>\n",
       "    </tr>\n",
       "    <tr>\n",
       "      <th>2</th>\n",
       "      <td>1843</td>\n",
       "      <td>3060</td>\n",
       "      <td>274</td>\n",
       "      <td>clinic 1</td>\n",
       "    </tr>\n",
       "    <tr>\n",
       "      <th>3</th>\n",
       "      <td>1844</td>\n",
       "      <td>3157</td>\n",
       "      <td>260</td>\n",
       "      <td>clinic 1</td>\n",
       "    </tr>\n",
       "    <tr>\n",
       "      <th>4</th>\n",
       "      <td>1845</td>\n",
       "      <td>3492</td>\n",
       "      <td>241</td>\n",
       "      <td>clinic 1</td>\n",
       "    </tr>\n",
       "    <tr>\n",
       "      <th>5</th>\n",
       "      <td>1846</td>\n",
       "      <td>4010</td>\n",
       "      <td>459</td>\n",
       "      <td>clinic 1</td>\n",
       "    </tr>\n",
       "    <tr>\n",
       "      <th>6</th>\n",
       "      <td>1841</td>\n",
       "      <td>2442</td>\n",
       "      <td>86</td>\n",
       "      <td>clinic 2</td>\n",
       "    </tr>\n",
       "    <tr>\n",
       "      <th>7</th>\n",
       "      <td>1842</td>\n",
       "      <td>2659</td>\n",
       "      <td>202</td>\n",
       "      <td>clinic 2</td>\n",
       "    </tr>\n",
       "    <tr>\n",
       "      <th>8</th>\n",
       "      <td>1843</td>\n",
       "      <td>2739</td>\n",
       "      <td>164</td>\n",
       "      <td>clinic 2</td>\n",
       "    </tr>\n",
       "    <tr>\n",
       "      <th>9</th>\n",
       "      <td>1844</td>\n",
       "      <td>2956</td>\n",
       "      <td>68</td>\n",
       "      <td>clinic 2</td>\n",
       "    </tr>\n",
       "    <tr>\n",
       "      <th>10</th>\n",
       "      <td>1845</td>\n",
       "      <td>3241</td>\n",
       "      <td>66</td>\n",
       "      <td>clinic 2</td>\n",
       "    </tr>\n",
       "    <tr>\n",
       "      <th>11</th>\n",
       "      <td>1846</td>\n",
       "      <td>3754</td>\n",
       "      <td>105</td>\n",
       "      <td>clinic 2</td>\n",
       "    </tr>\n",
       "  </tbody>\n",
       "</table>\n",
       "</div>"
      ],
      "text/plain": [
       "    year  births  deaths    clinic\n",
       "0   1841    3036     237  clinic 1\n",
       "1   1842    3287     518  clinic 1\n",
       "2   1843    3060     274  clinic 1\n",
       "3   1844    3157     260  clinic 1\n",
       "4   1845    3492     241  clinic 1\n",
       "5   1846    4010     459  clinic 1\n",
       "6   1841    2442      86  clinic 2\n",
       "7   1842    2659     202  clinic 2\n",
       "8   1843    2739     164  clinic 2\n",
       "9   1844    2956      68  clinic 2\n",
       "10  1845    3241      66  clinic 2\n",
       "11  1846    3754     105  clinic 2"
      ]
     },
     "execution_count": 3,
     "metadata": {},
     "output_type": "execute_result"
    }
   ],
   "source": [
    "# Loading the data\n",
    "yearly_deaths = pd.read_csv('yearly_deaths_by_clinic.csv').drop('Unnamed: 0', axis = 'columns')\n",
    "yearly_deaths"
   ]
  },
  {
   "cell_type": "markdown",
   "metadata": {},
   "source": [
    "## Rate of death in each clinic"
   ]
  },
  {
   "cell_type": "markdown",
   "metadata": {},
   "source": [
    "- The table above shows the mortatlity rates of two clinics in the hospital, lets look into the proporations of deaths in each clinic"
   ]
  },
  {
   "cell_type": "code",
   "execution_count": 4,
   "metadata": {},
   "outputs": [
    {
     "data": {
      "text/html": [
       "<div>\n",
       "<style scoped>\n",
       "    .dataframe tbody tr th:only-of-type {\n",
       "        vertical-align: middle;\n",
       "    }\n",
       "\n",
       "    .dataframe tbody tr th {\n",
       "        vertical-align: top;\n",
       "    }\n",
       "\n",
       "    .dataframe thead th {\n",
       "        text-align: right;\n",
       "    }\n",
       "</style>\n",
       "<table border=\"1\" class=\"dataframe\">\n",
       "  <thead>\n",
       "    <tr style=\"text-align: right;\">\n",
       "      <th></th>\n",
       "      <th>Number of Childbirths</th>\n",
       "    </tr>\n",
       "    <tr>\n",
       "      <th>clinic</th>\n",
       "      <th></th>\n",
       "    </tr>\n",
       "  </thead>\n",
       "  <tbody>\n",
       "    <tr>\n",
       "      <th>clinic 1</th>\n",
       "      <td>20042</td>\n",
       "    </tr>\n",
       "    <tr>\n",
       "      <th>clinic 2</th>\n",
       "      <td>17791</td>\n",
       "    </tr>\n",
       "  </tbody>\n",
       "</table>\n",
       "</div>"
      ],
      "text/plain": [
       "          Number of Childbirths\n",
       "clinic                         \n",
       "clinic 1                  20042\n",
       "clinic 2                  17791"
      ]
     },
     "execution_count": 4,
     "metadata": {},
     "output_type": "execute_result"
    }
   ],
   "source": [
    "# Summing up the Number of Childbirths per clinic\n",
    "births_by_clinic = pd.DataFrame(yearly_deaths.groupby('clinic')['births'].sum()).rename(columns = { 'births' :'Number of Childbirths'})\n",
    "births_by_clinic"
   ]
  },
  {
   "cell_type": "code",
   "execution_count": 5,
   "metadata": {},
   "outputs": [
    {
     "data": {
      "text/html": [
       "<div>\n",
       "<style scoped>\n",
       "    .dataframe tbody tr th:only-of-type {\n",
       "        vertical-align: middle;\n",
       "    }\n",
       "\n",
       "    .dataframe tbody tr th {\n",
       "        vertical-align: top;\n",
       "    }\n",
       "\n",
       "    .dataframe thead th {\n",
       "        text-align: right;\n",
       "    }\n",
       "</style>\n",
       "<table border=\"1\" class=\"dataframe\">\n",
       "  <thead>\n",
       "    <tr style=\"text-align: right;\">\n",
       "      <th></th>\n",
       "      <th>Number of Deaths</th>\n",
       "    </tr>\n",
       "    <tr>\n",
       "      <th>clinic</th>\n",
       "      <th></th>\n",
       "    </tr>\n",
       "  </thead>\n",
       "  <tbody>\n",
       "    <tr>\n",
       "      <th>clinic 1</th>\n",
       "      <td>1989</td>\n",
       "    </tr>\n",
       "    <tr>\n",
       "      <th>clinic 2</th>\n",
       "      <td>691</td>\n",
       "    </tr>\n",
       "  </tbody>\n",
       "</table>\n",
       "</div>"
      ],
      "text/plain": [
       "          Number of Deaths\n",
       "clinic                    \n",
       "clinic 1              1989\n",
       "clinic 2               691"
      ]
     },
     "execution_count": 5,
     "metadata": {},
     "output_type": "execute_result"
    }
   ],
   "source": [
    "# Summing up the Number of Deaths per clinic\n",
    "deaths_by_clinic = pd.DataFrame(yearly_deaths.groupby('clinic')['deaths'].sum()).rename(columns = {'deaths':'Number of Deaths'})\n",
    "deaths_by_clinic"
   ]
  },
  {
   "cell_type": "code",
   "execution_count": 6,
   "metadata": {},
   "outputs": [
    {
     "name": "stdout",
     "output_type": "stream",
     "text": [
      "Rate of Death in Clinic 1 is: 0.1\n"
     ]
    }
   ],
   "source": [
    "# Calculating the proporations of death in clinic 1\n",
    "clinic1_proportions = round(deaths_by_clinic.iloc[0,0] / births_by_clinic.iloc[0,0],2)\n",
    "print('Rate of Death in Clinic 1 is: {}'.format(clinic1_proportions))"
   ]
  },
  {
   "cell_type": "code",
   "execution_count": 7,
   "metadata": {},
   "outputs": [
    {
     "name": "stdout",
     "output_type": "stream",
     "text": [
      "Rate of Death in Clinic 2 is: 0.04\n"
     ]
    }
   ],
   "source": [
    "# Calculating the proporations of death in clinic 1\n",
    "clinic2_proportions = round(deaths_by_clinic.iloc[1,0] / births_by_clinic.iloc[1,0],2)\n",
    "print('Rate of Death in Clinic 2 is: {}'.format(clinic2_proportions))"
   ]
  },
  {
   "cell_type": "markdown",
   "metadata": {},
   "source": [
    "## Cumulative Plots"
   ]
  },
  {
   "cell_type": "code",
   "execution_count": 8,
   "metadata": {},
   "outputs": [],
   "source": [
    "# Using SQL syntax to Create a Dataframe for each of the clinics\n",
    "query1 = '''SELECT year, deaths\n",
    "            From yearly_deaths\n",
    "            WHERE clinic = \"clinic 1\"\n",
    "            '''\n",
    "query2 = '''SELECT year, deaths\n",
    "            From yearly_deaths\n",
    "            WHERE clinic = \"clinic 2\"\n",
    "            '''\n",
    "clinic1_df = sql(query1)\n",
    "clinic2_df = sql(query2)"
   ]
  },
  {
   "cell_type": "code",
   "execution_count": 9,
   "metadata": {},
   "outputs": [
    {
     "data": {
      "image/png": "[encoded data removed]",
      "text/plain": [
       "<Figure size 1080x432 with 1 Axes>"
      ]
     },
     "metadata": {},
     "output_type": "display_data"
    }
   ],
   "source": [
    "# Plotting a Cumulative Sum of all the deaths throughout the years 1841 to 1846\n",
    "fig, ax = plt.subplots(figsize = (15,6))\n",
    "ax.plot(clinic1_df['year'], clinic1_df['deaths'].cumsum(), label = 'Clinic 1')\n",
    "ax.plot(clinic2_df['year'], clinic2_df['deaths'].cumsum(), label = 'Clinic 2')\n",
    "plt.xlabel('Year', size = 14)\n",
    "plt.ylabel('Death Count', size = 14)\n",
    "plt.title('Cumulative Sum of Death Count - Years 1841 to 1846', size = 18)\n",
    "plt.legend()\n",
    "plt.show()"
   ]
  },
  {
   "cell_type": "code",
   "execution_count": 10,
   "metadata": {},
   "outputs": [],
   "source": [
    "# Generating x and y variables to plot the Estimated Cumulative Distribution Function(ecdf)\n",
    "x_clinic1, y_clinic1 = ecdf(clinic1_df.deaths)\n",
    "x_clinic2, y_clinic2 = ecdf(clinic2_df.deaths)"
   ]
  },
  {
   "cell_type": "code",
   "execution_count": 11,
   "metadata": {},
   "outputs": [
    {
     "data": {
      "image/png": "[encoded data removed]",
      "text/plain": [
       "<Figure size 1080x432 with 1 Axes>"
      ]
     },
     "metadata": {},
     "output_type": "display_data"
    }
   ],
   "source": [
    "# Plotting the ecdf and annotating the 25th 50th and the 75th percentile of death count per clinic\n",
    "fig, ax = plt.subplots(figsize = (15,6))\n",
    "ax.plot(x_clinic1, y_clinic1, label = 'Clinic 1')\n",
    "ax.plot(x_clinic2, y_clinic2, label = 'Clinic 2')\n",
    "plt.xlabel('Death Count', size = 14)\n",
    "plt.ylabel('Percentile', size = 14)\n",
    "plt.title('Cumulative Distribution - Years 1841 to 1846', size = 18)\n",
    "plt.annotate('Clinic 1 - 25th Percentile({:.0f} Deaths)'.format(np.quantile(clinic1_df.deaths, 0.25)), xy = (np.quantile(clinic1_df.deaths,0.25),0.25), color = 'r', size = 12)\n",
    "plt.annotate('Clinic 2 - 25th Percentile({:.0f} Deaths)'.format(np.quantile(clinic2_df.deaths, 0.25)), xy = (np.quantile(clinic2_df.deaths, 0.25), 0.25), color = 'r', size = 12)\n",
    "plt.annotate('Clinic 1 - 50th Percentile({:.0f} Deaths)'.format(np.median(clinic1_df.deaths)), xy = (np.median(clinic1_df.deaths),0.5), color = 'r', size = 12)\n",
    "plt.annotate('Clinic 2 - 50th Percentile({:.0f} Deaths)'.format(np.median(clinic2_df.deaths)), xy = (np.median(clinic2_df.deaths), 0.5), color = 'r', size = 12)\n",
    "plt.annotate('Clinic 1 - 75th Percentile({:.0f} Deaths)'.format(np.quantile(clinic1_df.deaths,0.75)), xy = (np.quantile(clinic1_df.deaths,0.75),0.75), color = 'r', size = 12)\n",
    "plt.annotate('Clinic 2 - 75th Percentile({:.0f} Deaths)'.format(np.quantile(clinic2_df.deaths,0.75)), xy = (np.quantile(clinic2_df.deaths,0.75), 0.75), color = 'r', size = 12)\n",
    "plt.legend()\n",
    "plt.show()"
   ]
  },
  {
   "cell_type": "markdown",
   "metadata": {},
   "source": [
    "#### Notes:\n",
    "- As we can see, about __1 in 10 women died during childbirth in clinic 1, and about 1 in 25 in clinic 2__.\n",
    "- Also just by looking at these plots we can tell that __there is a clear difference in mortality rates__ between the two clinics.\n",
    "- This difference is one of the first things that led Dr. Ignaz Semmelweis to the policy of handwashing.\n"
   ]
  },
  {
   "cell_type": "markdown",
   "metadata": {},
   "source": [
    "### ** Some domain Knowledge from wikipedia **\n",
    "- It turns out, that clinic 1 was mostly served by medical students, while clinic 2 was mostly served midwife students.\n",
    "- Also, the __clinic 1 medical students were also incharge of the autopsy rooms__ and they spent some of their time examining corepses.\n",
    "- Dr. Semmelweis started to suspect that something on the corpses spread from the hands of the medical students, caused childbed fever."
   ]
  },
  {
   "cell_type": "markdown",
   "metadata": {},
   "source": [
    "## Hypothesis Testing\n",
    "- Before jumping to conclusion lets perform an Hypothesis Test if the difference between the clinics is Significant.\n",
    "- The test will be a Student's T-test due to the small sample size.\n",
    "- Lets define:\n",
    "    - __Null Hypothesis__: The mean clinic 1 is *equal* to clinic 2.\n",
    "    - __Alternate Hypothesis__: The mean in clinic 1 is statistically *different* than clinic 2.\n",
    "    - Required Confidence Level - 0.05"
   ]
  },
  {
   "cell_type": "code",
   "execution_count": 12,
   "metadata": {},
   "outputs": [
    {
     "name": "stdout",
     "output_type": "stream",
     "text": [
      "***Performing a Student's T-test***\n",
      "\n",
      "The P-Value for the T-test is: 0.00294\n",
      "Rejecting the Null Hypothesis - The Difference in Mean is Statistically Siginificant\n"
     ]
    }
   ],
   "source": [
    "# Performing a Student's T-test \n",
    "t_test(clinic1_df, clinic2_df)"
   ]
  },
  {
   "cell_type": "markdown",
   "metadata": {},
   "source": [
    "#### Notes:\n",
    "- So it turns out that Dr. Ignaz Semmelweis was correct!\n",
    "- The two clinics are different after all.\n",
    "- At this point in time, Dr. Ignaz Semmelweis in a desperate attempt to stop the high mortality rates, decreed: *Wash your hands!*\n",
    "- This was an unorthodox and controversial request, nobody in Vienna knew about bacteria at this point in time. \n",
    "- __Let's import the monthly data of Clinic 1 from Wikipedia to see if the handwashing had any effect.__"
   ]
  },
  {
   "cell_type": "markdown",
   "metadata": {},
   "source": [
    "## Web Scraping from Wiki - Monthly Data"
   ]
  },
  {
   "cell_type": "code",
   "execution_count": 13,
   "metadata": {},
   "outputs": [
    {
     "name": "stdout",
     "output_type": "stream",
     "text": [
      "Access Authorized\n",
      "\n"
     ]
    }
   ],
   "source": [
    "# Setting the required URL address \n",
    "wiki_url = 'https://en.wikipedia.org/wiki/Historical_mortality_rates_of_puerperal_fever'\n",
    "table_class=\"wikitable sortable jquery-tablesorter\"\n",
    "\n",
    "# Sending to Wikipedia a GET request\n",
    "response = requests.get(wiki_url)\n",
    "\n",
    "# Recieving the response code from Wikipedia\n",
    "status_code = response.status_code\n",
    "\n",
    "# Checking if Access is Authorized\n",
    "if status_code == 200:\n",
    "    print('Access Authorized')\n",
    "else:\n",
    "    print('No Access')\n",
    "print()"
   ]
  },
  {
   "cell_type": "code",
   "execution_count": 14,
   "metadata": {},
   "outputs": [],
   "source": [
    "# Parsing the response in an HTML format\n",
    "soup = BeautifulSoup(response.text, 'html.parser')\n",
    "\n",
    "# Finding the required table from the Wikipedia page\n",
    "table=soup.find('table',{'class':\"wikitable\"})"
   ]
  },
  {
   "cell_type": "code",
   "execution_count": 15,
   "metadata": {},
   "outputs": [
    {
     "data": {
      "text/html": [
       "<div>\n",
       "<style scoped>\n",
       "    .dataframe tbody tr th:only-of-type {\n",
       "        vertical-align: middle;\n",
       "    }\n",
       "\n",
       "    .dataframe tbody tr th {\n",
       "        vertical-align: top;\n",
       "    }\n",
       "\n",
       "    .dataframe thead th {\n",
       "        text-align: right;\n",
       "    }\n",
       "</style>\n",
       "<table border=\"1\" class=\"dataframe\">\n",
       "  <thead>\n",
       "    <tr style=\"text-align: right;\">\n",
       "      <th></th>\n",
       "      <th>Month</th>\n",
       "      <th>Births</th>\n",
       "      <th>Deaths</th>\n",
       "      <th>Rate (%)</th>\n",
       "    </tr>\n",
       "  </thead>\n",
       "  <tbody>\n",
       "    <tr>\n",
       "      <th>0</th>\n",
       "      <td>January 1841</td>\n",
       "      <td>254</td>\n",
       "      <td>37</td>\n",
       "      <td>14.6</td>\n",
       "    </tr>\n",
       "    <tr>\n",
       "      <th>1</th>\n",
       "      <td>February 1841</td>\n",
       "      <td>239</td>\n",
       "      <td>18</td>\n",
       "      <td>7.5</td>\n",
       "    </tr>\n",
       "    <tr>\n",
       "      <th>2</th>\n",
       "      <td>March 1841</td>\n",
       "      <td>277</td>\n",
       "      <td>12</td>\n",
       "      <td>4.3</td>\n",
       "    </tr>\n",
       "    <tr>\n",
       "      <th>3</th>\n",
       "      <td>April 1841</td>\n",
       "      <td>255</td>\n",
       "      <td>4</td>\n",
       "      <td>1.6</td>\n",
       "    </tr>\n",
       "    <tr>\n",
       "      <th>4</th>\n",
       "      <td>May 1841</td>\n",
       "      <td>255</td>\n",
       "      <td>2</td>\n",
       "      <td>0.8</td>\n",
       "    </tr>\n",
       "    <tr>\n",
       "      <th>5</th>\n",
       "      <td>June 1841</td>\n",
       "      <td>200</td>\n",
       "      <td>10</td>\n",
       "      <td>5.0</td>\n",
       "    </tr>\n",
       "    <tr>\n",
       "      <th>6</th>\n",
       "      <td>July 1841</td>\n",
       "      <td>190</td>\n",
       "      <td>16</td>\n",
       "      <td>8.4</td>\n",
       "    </tr>\n",
       "    <tr>\n",
       "      <th>7</th>\n",
       "      <td>August 1841</td>\n",
       "      <td>222</td>\n",
       "      <td>3</td>\n",
       "      <td>1.4</td>\n",
       "    </tr>\n",
       "    <tr>\n",
       "      <th>8</th>\n",
       "      <td>September 1841</td>\n",
       "      <td>213</td>\n",
       "      <td>4</td>\n",
       "      <td>1.9</td>\n",
       "    </tr>\n",
       "    <tr>\n",
       "      <th>9</th>\n",
       "      <td>October 1841</td>\n",
       "      <td>236</td>\n",
       "      <td>26</td>\n",
       "      <td>11.0</td>\n",
       "    </tr>\n",
       "    <tr>\n",
       "      <th>10</th>\n",
       "      <td>November 1841</td>\n",
       "      <td>235</td>\n",
       "      <td>53</td>\n",
       "      <td>22.6</td>\n",
       "    </tr>\n",
       "    <tr>\n",
       "      <th>11</th>\n",
       "      <td>December 1841</td>\n",
       "      <td>na</td>\n",
       "      <td>na</td>\n",
       "      <td>na</td>\n",
       "    </tr>\n",
       "  </tbody>\n",
       "</table>\n",
       "</div>"
      ],
      "text/plain": [
       "             Month Births Deaths Rate (%)\n",
       "0     January 1841    254     37     14.6\n",
       "1    February 1841    239     18      7.5\n",
       "2       March 1841    277     12      4.3\n",
       "3       April 1841    255      4      1.6\n",
       "4         May 1841    255      2      0.8\n",
       "5        June 1841    200     10      5.0\n",
       "6        July 1841    190     16      8.4\n",
       "7      August 1841    222      3      1.4\n",
       "8   September 1841    213      4      1.9\n",
       "9     October 1841    236     26     11.0\n",
       "10   November 1841    235     53     22.6\n",
       "11   December 1841     na     na       na"
      ]
     },
     "execution_count": 15,
     "metadata": {},
     "output_type": "execute_result"
    }
   ],
   "source": [
    "# Reading table data\n",
    "clinic1_monthly_df = pd.read_html(str(table))\n",
    "\n",
    "# Converting list to dataframe\n",
    "clinic1_monthly_df = pd.DataFrame(clinic1_monthly_df[0]).drop(columns = ['Year', 'Notes'], axis = 1)\n",
    "clinic1_monthly_df.head(12)"
   ]
  },
  {
   "cell_type": "markdown",
   "metadata": {},
   "source": [
    "#### Notes:\n",
    "- This data shows the monthly death rates of women before and after the handwashing policy was implemented.\n",
    "- Lets see how much the policy affected the death rates."
   ]
  },
  {
   "cell_type": "markdown",
   "metadata": {},
   "source": [
    "## Analyzing data before and after the handwashing policy"
   ]
  },
  {
   "cell_type": "markdown",
   "metadata": {},
   "source": [
    "### Some Pre-Processing First"
   ]
  },
  {
   "cell_type": "code",
   "execution_count": 16,
   "metadata": {},
   "outputs": [
    {
     "name": "stdout",
     "output_type": "stream",
     "text": [
      "<class 'pandas.core.frame.DataFrame'>\n",
      "RangeIndex: 99 entries, 0 to 98\n",
      "Data columns (total 4 columns):\n",
      " #   Column    Non-Null Count  Dtype \n",
      "---  ------    --------------  ----- \n",
      " 0   Month     99 non-null     object\n",
      " 1   Births    99 non-null     object\n",
      " 2   Deaths    99 non-null     object\n",
      " 3   Rate (%)  99 non-null     object\n",
      "dtypes: object(4)\n",
      "memory usage: 3.2+ KB\n",
      "None\n"
     ]
    }
   ],
   "source": [
    "# Checking the feature's data type\n",
    "print(clinic1_monthly_df.info())"
   ]
  },
  {
   "cell_type": "markdown",
   "metadata": {},
   "source": [
    "- The features are of type \"object\", each feature needs to be changed to a more appropriate type."
   ]
  },
  {
   "cell_type": "code",
   "execution_count": 17,
   "metadata": {},
   "outputs": [
    {
     "data": {
      "text/plain": [
       "Month       0\n",
       "Births      0\n",
       "Deaths      0\n",
       "Rate (%)    0\n",
       "dtype: int64"
      ]
     },
     "execution_count": 17,
     "metadata": {},
     "output_type": "execute_result"
    }
   ],
   "source": [
    "# Checking for missing values\n",
    "clinic1_monthly_df.isna().sum()"
   ]
  },
  {
   "cell_type": "markdown",
   "metadata": {},
   "source": [
    "- No missing values"
   ]
  },
  {
   "cell_type": "code",
   "execution_count": 18,
   "metadata": {},
   "outputs": [
    {
     "data": {
      "text/plain": [
       "11     na\n",
       "98    406\n",
       "96    403\n",
       "97    389\n",
       "95    373\n",
       "     ... \n",
       "5     200\n",
       "29    196\n",
       "31    193\n",
       "30    191\n",
       "6     190\n",
       "Name: Births, Length: 99, dtype: object"
      ]
     },
     "execution_count": 18,
     "metadata": {},
     "output_type": "execute_result"
    }
   ],
   "source": [
    "# Sorting the Birth feature\n",
    "clinic1_monthly_df.Births.sort_values(ascending = False)"
   ]
  },
  {
   "cell_type": "markdown",
   "metadata": {},
   "source": [
    "- Birth column has a \"na\" value, Ill need to get rid of that in order to change the data type."
   ]
  },
  {
   "cell_type": "code",
   "execution_count": 19,
   "metadata": {},
   "outputs": [
    {
     "data": {
      "text/plain": [
       "11"
      ]
     },
     "execution_count": 19,
     "metadata": {},
     "output_type": "execute_result"
    }
   ],
   "source": [
    "# Finding the index to drop\n",
    "index_to_drop = clinic1_monthly_df[clinic1_monthly_df.Births.str.find('na') == 0].index[0]\n",
    "index_to_drop"
   ]
  },
  {
   "cell_type": "code",
   "execution_count": 20,
   "metadata": {},
   "outputs": [],
   "source": [
    "# Dropping the index\n",
    "clinic1_monthly_df.drop(index=index_to_drop, inplace = True)"
   ]
  },
  {
   "cell_type": "code",
   "execution_count": 21,
   "metadata": {},
   "outputs": [],
   "source": [
    "# Changing each column to a more appropriate data type\n",
    "clinic1_monthly_df['Births'] = clinic1_monthly_df.Births.astype('int')\n",
    "clinic1_monthly_df['Deaths'] = clinic1_monthly_df.Deaths.astype('int')\n",
    "clinic1_monthly_df['Rate (%)'] = clinic1_monthly_df['Rate (%)'].astype('float')\n",
    "clinic1_monthly_df['Month'] = pd.to_datetime(clinic1_monthly_df.Month)"
   ]
  },
  {
   "cell_type": "code",
   "execution_count": 23,
   "metadata": {},
   "outputs": [
    {
     "data": {
      "text/plain": [
       "Month       datetime64[ns]\n",
       "Births               int32\n",
       "Deaths               int32\n",
       "Rate (%)           float64\n",
       "dtype: object"
      ]
     },
     "execution_count": 23,
     "metadata": {},
     "output_type": "execute_result"
    }
   ],
   "source": [
    "# Checking the new data types\n",
    "clinic1_monthly_df.dtypes"
   ]
  },
  {
   "cell_type": "code",
   "execution_count": 24,
   "metadata": {},
   "outputs": [],
   "source": [
    "# Setting the Month datetime column as the index\n",
    "clinic1_monthly_df = clinic1_monthly_df.set_index('Month')"
   ]
  },
  {
   "cell_type": "code",
   "execution_count": 25,
   "metadata": {},
   "outputs": [
    {
     "data": {
      "text/html": [
       "<div>\n",
       "<style scoped>\n",
       "    .dataframe tbody tr th:only-of-type {\n",
       "        vertical-align: middle;\n",
       "    }\n",
       "\n",
       "    .dataframe tbody tr th {\n",
       "        vertical-align: top;\n",
       "    }\n",
       "\n",
       "    .dataframe thead th {\n",
       "        text-align: right;\n",
       "    }\n",
       "</style>\n",
       "<table border=\"1\" class=\"dataframe\">\n",
       "  <thead>\n",
       "    <tr style=\"text-align: right;\">\n",
       "      <th></th>\n",
       "      <th>Births</th>\n",
       "      <th>Deaths</th>\n",
       "      <th>Rate (%)</th>\n",
       "    </tr>\n",
       "    <tr>\n",
       "      <th>Month</th>\n",
       "      <th></th>\n",
       "      <th></th>\n",
       "      <th></th>\n",
       "    </tr>\n",
       "  </thead>\n",
       "  <tbody>\n",
       "    <tr>\n",
       "      <th>1841-01-01</th>\n",
       "      <td>254</td>\n",
       "      <td>37</td>\n",
       "      <td>14.6</td>\n",
       "    </tr>\n",
       "    <tr>\n",
       "      <th>1841-02-01</th>\n",
       "      <td>239</td>\n",
       "      <td>18</td>\n",
       "      <td>7.5</td>\n",
       "    </tr>\n",
       "    <tr>\n",
       "      <th>1841-03-01</th>\n",
       "      <td>277</td>\n",
       "      <td>12</td>\n",
       "      <td>4.3</td>\n",
       "    </tr>\n",
       "    <tr>\n",
       "      <th>1841-04-01</th>\n",
       "      <td>255</td>\n",
       "      <td>4</td>\n",
       "      <td>1.6</td>\n",
       "    </tr>\n",
       "    <tr>\n",
       "      <th>1841-05-01</th>\n",
       "      <td>255</td>\n",
       "      <td>2</td>\n",
       "      <td>0.8</td>\n",
       "    </tr>\n",
       "    <tr>\n",
       "      <th>...</th>\n",
       "      <td>...</td>\n",
       "      <td>...</td>\n",
       "      <td>...</td>\n",
       "    </tr>\n",
       "    <tr>\n",
       "      <th>1848-11-01</th>\n",
       "      <td>310</td>\n",
       "      <td>9</td>\n",
       "      <td>2.9</td>\n",
       "    </tr>\n",
       "    <tr>\n",
       "      <th>1848-12-01</th>\n",
       "      <td>373</td>\n",
       "      <td>5</td>\n",
       "      <td>1.3</td>\n",
       "    </tr>\n",
       "    <tr>\n",
       "      <th>1849-01-01</th>\n",
       "      <td>403</td>\n",
       "      <td>9</td>\n",
       "      <td>2.2</td>\n",
       "    </tr>\n",
       "    <tr>\n",
       "      <th>1849-02-01</th>\n",
       "      <td>389</td>\n",
       "      <td>12</td>\n",
       "      <td>3.1</td>\n",
       "    </tr>\n",
       "    <tr>\n",
       "      <th>1849-03-01</th>\n",
       "      <td>406</td>\n",
       "      <td>20</td>\n",
       "      <td>4.9</td>\n",
       "    </tr>\n",
       "  </tbody>\n",
       "</table>\n",
       "<p>98 rows × 3 columns</p>\n",
       "</div>"
      ],
      "text/plain": [
       "            Births  Deaths  Rate (%)\n",
       "Month                               \n",
       "1841-01-01     254      37      14.6\n",
       "1841-02-01     239      18       7.5\n",
       "1841-03-01     277      12       4.3\n",
       "1841-04-01     255       4       1.6\n",
       "1841-05-01     255       2       0.8\n",
       "...            ...     ...       ...\n",
       "1848-11-01     310       9       2.9\n",
       "1848-12-01     373       5       1.3\n",
       "1849-01-01     403       9       2.2\n",
       "1849-02-01     389      12       3.1\n",
       "1849-03-01     406      20       4.9\n",
       "\n",
       "[98 rows x 3 columns]"
      ]
     },
     "execution_count": 25,
     "metadata": {},
     "output_type": "execute_result"
    }
   ],
   "source": [
    "# New Dataframe look like this\n",
    "clinic1_monthly_df"
   ]
  },
  {
   "cell_type": "markdown",
   "metadata": {},
   "source": [
    "### Plotting the effects of the handwashing policy\n",
    "- According to Wiki, the handwashing policy started around: Mid 1847 "
   ]
  },
  {
   "cell_type": "code",
   "execution_count": 43,
   "metadata": {},
   "outputs": [
    {
     "data": {
      "image/png": "[encoded data removed]",
      "text/plain": [
       "<Figure size 1080x432 with 1 Axes>"
      ]
     },
     "metadata": {},
     "output_type": "display_data"
    }
   ],
   "source": [
    "number_of_deaths_pre_policy = clinic1_monthly_df[clinic1_monthly_df.index == '1847-04-01'].Deaths[0]\n",
    "\n",
    "fig, ax = plt.subplots(figsize = (15,6))\n",
    "ax.plot(clinic1_monthly_df.index, clinic1_monthly_df.Deaths)\n",
    "plt.annotate('Handwashing Policy \\nImplementation',xy = (pd.Timestamp('1847-04-01'),number_of_deaths_pre_policy), color = 'r',\n",
    "                size = 14, arrowprops = {'arrowstyle':'->', 'color':'gray'}, xytext = (pd.Timestamp('1848-04-01'),50))\n",
    "\n",
    "plt.show()"
   ]
  },
  {
   "cell_type": "markdown",
   "metadata": {},
   "source": [
    "- Look like washing the new policy in clinic 1 almost immediately reduced the number of deaths."
   ]
  },
  {
   "cell_type": "markdown",
   "metadata": {},
   "source": [
    "### Dividing the data set to before and after the handwashing policy.\n"
   ]
  },
  {
   "cell_type": "code",
   "execution_count": 28,
   "metadata": {},
   "outputs": [
    {
     "data": {
      "text/html": [
       "<div>\n",
       "<style scoped>\n",
       "    .dataframe tbody tr th:only-of-type {\n",
       "        vertical-align: middle;\n",
       "    }\n",
       "\n",
       "    .dataframe tbody tr th {\n",
       "        vertical-align: top;\n",
       "    }\n",
       "\n",
       "    .dataframe thead th {\n",
       "        text-align: right;\n",
       "    }\n",
       "</style>\n",
       "<table border=\"1\" class=\"dataframe\">\n",
       "  <thead>\n",
       "    <tr style=\"text-align: right;\">\n",
       "      <th></th>\n",
       "      <th>Births</th>\n",
       "      <th>Deaths</th>\n",
       "      <th>Rate (%)</th>\n",
       "    </tr>\n",
       "    <tr>\n",
       "      <th>Month</th>\n",
       "      <th></th>\n",
       "      <th></th>\n",
       "      <th></th>\n",
       "    </tr>\n",
       "  </thead>\n",
       "  <tbody>\n",
       "    <tr>\n",
       "      <th>1846-12-01</th>\n",
       "      <td>298</td>\n",
       "      <td>16</td>\n",
       "      <td>5.4</td>\n",
       "    </tr>\n",
       "    <tr>\n",
       "      <th>1847-01-01</th>\n",
       "      <td>311</td>\n",
       "      <td>10</td>\n",
       "      <td>3.2</td>\n",
       "    </tr>\n",
       "    <tr>\n",
       "      <th>1847-02-01</th>\n",
       "      <td>312</td>\n",
       "      <td>6</td>\n",
       "      <td>1.9</td>\n",
       "    </tr>\n",
       "    <tr>\n",
       "      <th>1847-03-01</th>\n",
       "      <td>305</td>\n",
       "      <td>11</td>\n",
       "      <td>3.6</td>\n",
       "    </tr>\n",
       "    <tr>\n",
       "      <th>1847-04-01</th>\n",
       "      <td>312</td>\n",
       "      <td>57</td>\n",
       "      <td>18.3</td>\n",
       "    </tr>\n",
       "  </tbody>\n",
       "</table>\n",
       "</div>"
      ],
      "text/plain": [
       "            Births  Deaths  Rate (%)\n",
       "Month                               \n",
       "1846-12-01     298      16       5.4\n",
       "1847-01-01     311      10       3.2\n",
       "1847-02-01     312       6       1.9\n",
       "1847-03-01     305      11       3.6\n",
       "1847-04-01     312      57      18.3"
      ]
     },
     "execution_count": 28,
     "metadata": {},
     "output_type": "execute_result"
    }
   ],
   "source": [
    "pre_policy_df = clinic1_monthly_df[clinic1_monthly_df.index < '1847-05-01']\n",
    "pre_policy_df.tail()"
   ]
  },
  {
   "cell_type": "code",
   "execution_count": 29,
   "metadata": {},
   "outputs": [
    {
     "data": {
      "text/html": [
       "<div>\n",
       "<style scoped>\n",
       "    .dataframe tbody tr th:only-of-type {\n",
       "        vertical-align: middle;\n",
       "    }\n",
       "\n",
       "    .dataframe tbody tr th {\n",
       "        vertical-align: top;\n",
       "    }\n",
       "\n",
       "    .dataframe thead th {\n",
       "        text-align: right;\n",
       "    }\n",
       "</style>\n",
       "<table border=\"1\" class=\"dataframe\">\n",
       "  <thead>\n",
       "    <tr style=\"text-align: right;\">\n",
       "      <th></th>\n",
       "      <th>Births</th>\n",
       "      <th>Deaths</th>\n",
       "      <th>Rate (%)</th>\n",
       "    </tr>\n",
       "    <tr>\n",
       "      <th>Month</th>\n",
       "      <th></th>\n",
       "      <th></th>\n",
       "      <th></th>\n",
       "    </tr>\n",
       "  </thead>\n",
       "  <tbody>\n",
       "    <tr>\n",
       "      <th>1847-05-01</th>\n",
       "      <td>294</td>\n",
       "      <td>36</td>\n",
       "      <td>12.2</td>\n",
       "    </tr>\n",
       "    <tr>\n",
       "      <th>1847-06-01</th>\n",
       "      <td>268</td>\n",
       "      <td>6</td>\n",
       "      <td>2.2</td>\n",
       "    </tr>\n",
       "    <tr>\n",
       "      <th>1847-07-01</th>\n",
       "      <td>250</td>\n",
       "      <td>3</td>\n",
       "      <td>1.2</td>\n",
       "    </tr>\n",
       "    <tr>\n",
       "      <th>1847-08-01</th>\n",
       "      <td>264</td>\n",
       "      <td>5</td>\n",
       "      <td>1.9</td>\n",
       "    </tr>\n",
       "    <tr>\n",
       "      <th>1847-09-01</th>\n",
       "      <td>262</td>\n",
       "      <td>12</td>\n",
       "      <td>4.6</td>\n",
       "    </tr>\n",
       "  </tbody>\n",
       "</table>\n",
       "</div>"
      ],
      "text/plain": [
       "            Births  Deaths  Rate (%)\n",
       "Month                               \n",
       "1847-05-01     294      36      12.2\n",
       "1847-06-01     268       6       2.2\n",
       "1847-07-01     250       3       1.2\n",
       "1847-08-01     264       5       1.9\n",
       "1847-09-01     262      12       4.6"
      ]
     },
     "execution_count": 29,
     "metadata": {},
     "output_type": "execute_result"
    }
   ],
   "source": [
    "after_policy_df = clinic1_monthly_df[clinic1_monthly_df.index >= '1847-05-01']\n",
    "after_policy_df.head()"
   ]
  },
  {
   "cell_type": "markdown",
   "metadata": {},
   "source": [
    "### Analyzing the differences"
   ]
  },
  {
   "cell_type": "code",
   "execution_count": 30,
   "metadata": {},
   "outputs": [
    {
     "data": {
      "text/html": [
       "<div>\n",
       "<style scoped>\n",
       "    .dataframe tbody tr th:only-of-type {\n",
       "        vertical-align: middle;\n",
       "    }\n",
       "\n",
       "    .dataframe tbody tr th {\n",
       "        vertical-align: top;\n",
       "    }\n",
       "\n",
       "    .dataframe thead th {\n",
       "        text-align: right;\n",
       "    }\n",
       "</style>\n",
       "<table border=\"1\" class=\"dataframe\">\n",
       "  <thead>\n",
       "    <tr style=\"text-align: right;\">\n",
       "      <th></th>\n",
       "      <th>Births</th>\n",
       "      <th>Deaths</th>\n",
       "      <th>Rate (%)</th>\n",
       "    </tr>\n",
       "  </thead>\n",
       "  <tbody>\n",
       "    <tr>\n",
       "      <th>count</th>\n",
       "      <td>75.000000</td>\n",
       "      <td>75.000000</td>\n",
       "      <td>75.000000</td>\n",
       "    </tr>\n",
       "    <tr>\n",
       "      <th>mean</th>\n",
       "      <td>257.026667</td>\n",
       "      <td>26.986667</td>\n",
       "      <td>10.481333</td>\n",
       "    </tr>\n",
       "    <tr>\n",
       "      <th>std</th>\n",
       "      <td>34.241974</td>\n",
       "      <td>18.026627</td>\n",
       "      <td>7.119989</td>\n",
       "    </tr>\n",
       "    <tr>\n",
       "      <th>min</th>\n",
       "      <td>190.000000</td>\n",
       "      <td>1.000000</td>\n",
       "      <td>0.500000</td>\n",
       "    </tr>\n",
       "    <tr>\n",
       "      <th>25%</th>\n",
       "      <td>236.500000</td>\n",
       "      <td>11.500000</td>\n",
       "      <td>4.400000</td>\n",
       "    </tr>\n",
       "    <tr>\n",
       "      <th>50%</th>\n",
       "      <td>254.000000</td>\n",
       "      <td>26.000000</td>\n",
       "      <td>10.500000</td>\n",
       "    </tr>\n",
       "    <tr>\n",
       "      <th>75%</th>\n",
       "      <td>278.500000</td>\n",
       "      <td>40.000000</td>\n",
       "      <td>15.100000</td>\n",
       "    </tr>\n",
       "    <tr>\n",
       "      <th>max</th>\n",
       "      <td>336.000000</td>\n",
       "      <td>75.000000</td>\n",
       "      <td>31.400000</td>\n",
       "    </tr>\n",
       "  </tbody>\n",
       "</table>\n",
       "</div>"
      ],
      "text/plain": [
       "           Births     Deaths   Rate (%)\n",
       "count   75.000000  75.000000  75.000000\n",
       "mean   257.026667  26.986667  10.481333\n",
       "std     34.241974  18.026627   7.119989\n",
       "min    190.000000   1.000000   0.500000\n",
       "25%    236.500000  11.500000   4.400000\n",
       "50%    254.000000  26.000000  10.500000\n",
       "75%    278.500000  40.000000  15.100000\n",
       "max    336.000000  75.000000  31.400000"
      ]
     },
     "execution_count": 30,
     "metadata": {},
     "output_type": "execute_result"
    }
   ],
   "source": [
    "pre_policy_df.describe()"
   ]
  },
  {
   "cell_type": "code",
   "execution_count": 31,
   "metadata": {},
   "outputs": [
    {
     "data": {
      "text/html": [
       "<div>\n",
       "<style scoped>\n",
       "    .dataframe tbody tr th:only-of-type {\n",
       "        vertical-align: middle;\n",
       "    }\n",
       "\n",
       "    .dataframe tbody tr th {\n",
       "        vertical-align: top;\n",
       "    }\n",
       "\n",
       "    .dataframe thead th {\n",
       "        text-align: right;\n",
       "    }\n",
       "</style>\n",
       "<table border=\"1\" class=\"dataframe\">\n",
       "  <thead>\n",
       "    <tr style=\"text-align: right;\">\n",
       "      <th></th>\n",
       "      <th>Births</th>\n",
       "      <th>Deaths</th>\n",
       "      <th>Rate (%)</th>\n",
       "    </tr>\n",
       "  </thead>\n",
       "  <tbody>\n",
       "    <tr>\n",
       "      <th>count</th>\n",
       "      <td>23.000000</td>\n",
       "      <td>23.000000</td>\n",
       "      <td>23.000000</td>\n",
       "    </tr>\n",
       "    <tr>\n",
       "      <th>mean</th>\n",
       "      <td>299.521739</td>\n",
       "      <td>7.739130</td>\n",
       "      <td>2.547826</td>\n",
       "    </tr>\n",
       "    <tr>\n",
       "      <th>std</th>\n",
       "      <td>47.997035</td>\n",
       "      <td>7.846351</td>\n",
       "      <td>2.573443</td>\n",
       "    </tr>\n",
       "    <tr>\n",
       "      <th>min</th>\n",
       "      <td>246.000000</td>\n",
       "      <td>0.000000</td>\n",
       "      <td>0.000000</td>\n",
       "    </tr>\n",
       "    <tr>\n",
       "      <th>25%</th>\n",
       "      <td>266.000000</td>\n",
       "      <td>3.000000</td>\n",
       "      <td>1.000000</td>\n",
       "    </tr>\n",
       "    <tr>\n",
       "      <th>50%</th>\n",
       "      <td>283.000000</td>\n",
       "      <td>6.000000</td>\n",
       "      <td>2.200000</td>\n",
       "    </tr>\n",
       "    <tr>\n",
       "      <th>75%</th>\n",
       "      <td>311.000000</td>\n",
       "      <td>10.500000</td>\n",
       "      <td>3.300000</td>\n",
       "    </tr>\n",
       "    <tr>\n",
       "      <th>max</th>\n",
       "      <td>406.000000</td>\n",
       "      <td>36.000000</td>\n",
       "      <td>12.200000</td>\n",
       "    </tr>\n",
       "  </tbody>\n",
       "</table>\n",
       "</div>"
      ],
      "text/plain": [
       "           Births     Deaths   Rate (%)\n",
       "count   23.000000  23.000000  23.000000\n",
       "mean   299.521739   7.739130   2.547826\n",
       "std     47.997035   7.846351   2.573443\n",
       "min    246.000000   0.000000   0.000000\n",
       "25%    266.000000   3.000000   1.000000\n",
       "50%    283.000000   6.000000   2.200000\n",
       "75%    311.000000  10.500000   3.300000\n",
       "max    406.000000  36.000000  12.200000"
      ]
     },
     "execution_count": 31,
     "metadata": {},
     "output_type": "execute_result"
    }
   ],
   "source": [
    "after_policy_df.describe()"
   ]
  },
  {
   "cell_type": "markdown",
   "metadata": {},
   "source": [
    "#### Notes:\n",
    "- So Its clear that there are huge differences before and after the handwashing policy.\n",
    "- __The average number of deaths post policy is about 3 times as lower!!!__\n",
    "- Lets check out the distribution of Death counts pre and post policy"
   ]
  },
  {
   "cell_type": "code",
   "execution_count": 32,
   "metadata": {},
   "outputs": [
    {
     "data": {
      "image/png": "[encoded data removed]",
      "text/plain": [
       "<Figure size 1080x432 with 1 Axes>"
      ]
     },
     "metadata": {},
     "output_type": "display_data"
    }
   ],
   "source": [
    "# Checking out the Kernel Density Estimation of each Dataframe\n",
    "fig, ax = plt.subplots(figsize = (15,6))\n",
    "ax = sns.kdeplot(data = after_policy_df, x = after_policy_df.Deaths, shade = True, label = 'Post-Policy')\n",
    "ax = sns.kdeplot(data = pre_policy_df, x = pre_policy_df.Deaths, shade =True, label = 'Pre-Policy')\n",
    "plt.xlabel('Deaths', size = 16)\n",
    "plt.ylabel('Density', size = 16)\n",
    "plt.title('Distribution of Death Count - Post and Pre Handwashing Policy', size = 18)\n",
    "plt.legend()\n",
    "plt.show()"
   ]
  },
  {
   "cell_type": "markdown",
   "metadata": {},
   "source": [
    "#### Notes:\n",
    "- There is a clear difference, but again, before jumping to conclutions __lets perform an hypothesis test to see if the differences is significant.__\n",
    "- This time ill use a __Bootstrap Analysis of the data__.\n",
    "- The goal of the analysis is to resmaple the data and thus create replicates it.\n",
    "- This will allow us to check whether or not __the difference in the average number of deaths between the two clinics, will remain different even if we were to take A LOT of samples from each clinic.__\n",
    "- If so, we can declare that the difference in the two samples of data(pre and post handwashing policy), is __Statistically Significant__, and will prove that the policy did in fact worked and it was __NOT a matter of random chance__."
   ]
  },
  {
   "cell_type": "code",
   "execution_count": 57,
   "metadata": {},
   "outputs": [
    {
     "data": {
      "text/plain": [
       "-19.4068"
      ]
     },
     "execution_count": 57,
     "metadata": {},
     "output_type": "execute_result"
    }
   ],
   "source": [
    "# Creating 10000 samples of the pre and post policy data\n",
    "pre_policy_bootstrap_sample = np.random.choice(pre_policy_df.Deaths, size = 10000)\n",
    "post_policy_bootstrap_sample = np.random.choice(after_policy_df.Deaths, size = 10000)\n",
    "\n",
    "# Calculating the difference in mean\n",
    "mean_diff = round(np.mean(post_policy_bootstrap_sample) - np.mean(pre_policy_bootstrap_sample),5)\n",
    "mean_diff"
   ]
  },
  {
   "cell_type": "markdown",
   "metadata": {},
   "source": [
    "- So it looks like the policy has decresed the mean number of deaths in about 19 deaths per month!!\n",
    "- Lets calculate a 95% Confidence interval to see the full extent of the benefits of the handwashing policy."
   ]
  },
  {
   "cell_type": "code",
   "execution_count": 68,
   "metadata": {},
   "outputs": [],
   "source": [
    "# A bootstrap analysis of the reduction of deaths due to handwashing\n",
    "boot_mean_diff = []\n",
    "for i in range(3000):\n",
    "    boot_before = np.random.choice(pre_policy_df.Deaths, size = 10000)\n",
    "    boot_after = np.random.choice(after_policy_df.Deaths, size = 10000)\n",
    "    boot_mean_diff.append( np.mean(boot_after) - np.mean(boot_before) )\n",
    "\n"
   ]
  },
  {
   "cell_type": "code",
   "execution_count": 75,
   "metadata": {},
   "outputs": [
    {
     "data": {
      "text/plain": [
       "0.025   -19.63495\n",
       "0.975   -18.87719\n",
       "dtype: float64"
      ]
     },
     "execution_count": 75,
     "metadata": {},
     "output_type": "execute_result"
    }
   ],
   "source": [
    "# Calculating a 95% confidence interval from boot_mean_diff \n",
    "confidence_interval = pd.Series(boot_mean_diff).quantile([0.025,0.975])\n",
    "confidence_interval"
   ]
  },
  {
   "cell_type": "markdown",
   "metadata": {},
   "source": [
    "- In other words, I can say with a 95% confidence that after the handwashing policy, the average number of deaths will decrease by up to 18.87 to 19.63 per month!!!\n",
    "- And its all thanks to Dr. Semmelweis and his Discovery of Handwashing."
   ]
  }
 ],
 "metadata": {
  "kernelspec": {
   "display_name": "Python 3",
   "language": "python",
   "name": "python3"
  },
  "language_info": {
   "codemirror_mode": {
    "name": "ipython",
    "version": 3
   },
   "file_extension": ".py",
   "mimetype": "text/x-python",
   "name": "python",
   "nbconvert_exporter": "python",
   "pygments_lexer": "ipython3",
   "version": "3.8.5"
  }
 },
 "nbformat": 4,
 "nbformat_minor": 4
}
